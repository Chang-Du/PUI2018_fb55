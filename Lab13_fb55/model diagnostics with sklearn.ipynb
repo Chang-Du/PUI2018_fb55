{
 "cells": [
  {
   "cell_type": "code",
   "execution_count": 305,
   "metadata": {
    "ExecuteTime": {
     "end_time": "2018-12-12T16:47:26.541802Z",
     "start_time": "2018-12-12T16:47:26.444889Z"
    },
    "run_control": {
     "frozen": false,
     "read_only": false
    }
   },
   "outputs": [
    {
     "name": "stdout",
     "output_type": "stream",
     "text": [
      "Populating the interactive namespace from numpy and matplotlib\n"
     ]
    },
    {
     "name": "stderr",
     "output_type": "stream",
     "text": [
      "//anaconda/envs/earth-analytics-python/lib/python3.6/site-packages/IPython/core/magics/pylab.py:160: UserWarning: pylab import has clobbered these variables: ['test']\n",
      "`%matplotlib` prevents importing * from pylab and numpy\n",
      "  \"\\n`%matplotlib` prevents importing * from pylab and numpy\"\n"
     ]
    }
   ],
   "source": [
    "import os\n",
    "import pylab as pl\n",
    "import geopandas as gp\n",
    "%pylab inline"
   ]
  },
  {
   "cell_type": "markdown",
   "metadata": {
    "run_control": {
     "frozen": false,
     "read_only": false
    }
   },
   "source": [
    "# SCOPE: creating a model predicting building age (>68 or <=68 years, i.e. built before or after 1950) based on PLUTO features in Manhattan"
   ]
  },
  {
   "cell_type": "markdown",
   "metadata": {
    "run_control": {
     "frozen": false,
     "read_only": false
    }
   },
   "source": [
    "## get pluto data"
   ]
  },
  {
   "cell_type": "code",
   "execution_count": 326,
   "metadata": {
    "ExecuteTime": {
     "end_time": "2018-12-12T16:49:36.248661Z",
     "start_time": "2018-12-12T16:49:28.373406Z"
    },
    "run_control": {
     "frozen": false,
     "read_only": false
    }
   },
   "outputs": [],
   "source": [
    "bsize = gp.GeoDataFrame.from_file(os.getenv(\"PUIDATA\") + \"/Manhattan/MNMapPLUTO.shp\")\n"
   ]
  },
  {
   "cell_type": "code",
   "execution_count": 307,
   "metadata": {
    "ExecuteTime": {
     "end_time": "2018-12-12T16:47:37.374810Z",
     "start_time": "2018-12-12T16:47:37.355469Z"
    },
    "run_control": {
     "frozen": false,
     "read_only": false
    }
   },
   "outputs": [
    {
     "data": {
      "text/plain": [
       "Index(['Borough', 'Block', 'Lot', 'CD', 'CT2010', 'CB2010', 'SchoolDist',\n",
       "       'Council', 'ZipCode', 'FireComp', 'PolicePrct', 'HealthArea',\n",
       "       'SanitBoro', 'SanitDist', 'SanitSub', 'Address', 'ZoneDist1',\n",
       "       'ZoneDist2', 'ZoneDist3', 'ZoneDist4', 'Overlay1', 'Overlay2',\n",
       "       'SPDist1', 'SPDist2', 'LtdHeight', 'AllZoning1', 'AllZoning2',\n",
       "       'SplitZone', 'BldgClass', 'LandUse', 'Easements', 'OwnerType',\n",
       "       'OwnerName', 'LotArea', 'BldgArea', 'ComArea', 'ResArea', 'OfficeArea',\n",
       "       'RetailArea', 'GarageArea', 'StrgeArea', 'FactryArea', 'OtherArea',\n",
       "       'AreaSource', 'NumBldgs', 'NumFloors', 'UnitsRes', 'UnitsTotal',\n",
       "       'LotFront', 'LotDepth', 'BldgFront', 'BldgDepth', 'Ext', 'ProxCode',\n",
       "       'IrrLotCode', 'LotType', 'BsmtCode', 'AssessLand', 'AssessTot',\n",
       "       'ExemptLand', 'ExemptTot', 'YearBuilt', 'BuiltCode', 'YearAlter1',\n",
       "       'YearAlter2', 'HistDist', 'Landmark', 'BuiltFAR', 'ResidFAR', 'CommFAR',\n",
       "       'FacilFAR', 'BoroCode', 'BBL', 'CondoNo', 'Tract2010', 'XCoord',\n",
       "       'YCoord', 'ZoneMap', 'ZMCode', 'Sanborn', 'TaxMap', 'EDesigNum',\n",
       "       'APPBBL', 'APPDate', 'PLUTOMapID', 'Version', 'MAPPLUTO_F',\n",
       "       'SHAPE_Leng', 'SHAPE_Area', 'geometry'],\n",
       "      dtype='object')"
      ]
     },
     "execution_count": 307,
     "metadata": {},
     "output_type": "execute_result"
    }
   ],
   "source": [
    "bsize.columns"
   ]
  },
  {
   "cell_type": "code",
   "execution_count": 308,
   "metadata": {
    "ExecuteTime": {
     "end_time": "2018-12-12T16:47:37.449681Z",
     "start_time": "2018-12-12T16:47:37.378640Z"
    },
    "run_control": {
     "frozen": false,
     "read_only": false
    }
   },
   "outputs": [
    {
     "data": {
      "text/html": [
       "<div>\n",
       "<style scoped>\n",
       "    .dataframe tbody tr th:only-of-type {\n",
       "        vertical-align: middle;\n",
       "    }\n",
       "\n",
       "    .dataframe tbody tr th {\n",
       "        vertical-align: top;\n",
       "    }\n",
       "\n",
       "    .dataframe thead th {\n",
       "        text-align: right;\n",
       "    }\n",
       "</style>\n",
       "<table border=\"1\" class=\"dataframe\">\n",
       "  <thead>\n",
       "    <tr style=\"text-align: right;\">\n",
       "      <th></th>\n",
       "      <th>Borough</th>\n",
       "      <th>Block</th>\n",
       "      <th>Lot</th>\n",
       "      <th>CD</th>\n",
       "      <th>CT2010</th>\n",
       "      <th>CB2010</th>\n",
       "      <th>SchoolDist</th>\n",
       "      <th>Council</th>\n",
       "      <th>ZipCode</th>\n",
       "      <th>FireComp</th>\n",
       "      <th>...</th>\n",
       "      <th>TaxMap</th>\n",
       "      <th>EDesigNum</th>\n",
       "      <th>APPBBL</th>\n",
       "      <th>APPDate</th>\n",
       "      <th>PLUTOMapID</th>\n",
       "      <th>Version</th>\n",
       "      <th>MAPPLUTO_F</th>\n",
       "      <th>SHAPE_Leng</th>\n",
       "      <th>SHAPE_Area</th>\n",
       "      <th>geometry</th>\n",
       "    </tr>\n",
       "  </thead>\n",
       "  <tbody>\n",
       "    <tr>\n",
       "      <th>0</th>\n",
       "      <td>MN</td>\n",
       "      <td>1545</td>\n",
       "      <td>52</td>\n",
       "      <td>108</td>\n",
       "      <td>138</td>\n",
       "      <td>4000</td>\n",
       "      <td>02</td>\n",
       "      <td>5</td>\n",
       "      <td>10028</td>\n",
       "      <td>E022</td>\n",
       "      <td>...</td>\n",
       "      <td>10515</td>\n",
       "      <td>None</td>\n",
       "      <td>0.000000e+00</td>\n",
       "      <td>None</td>\n",
       "      <td>1</td>\n",
       "      <td>16v1</td>\n",
       "      <td>0</td>\n",
       "      <td>260.428942</td>\n",
       "      <td>2867.154706</td>\n",
       "      <td>POLYGON ((997277.2344000041 221816.0936000049,...</td>\n",
       "    </tr>\n",
       "    <tr>\n",
       "      <th>1</th>\n",
       "      <td>MN</td>\n",
       "      <td>723</td>\n",
       "      <td>7501</td>\n",
       "      <td>104</td>\n",
       "      <td>93</td>\n",
       "      <td>6000</td>\n",
       "      <td>02</td>\n",
       "      <td>3</td>\n",
       "      <td>10001</td>\n",
       "      <td>E003</td>\n",
       "      <td>...</td>\n",
       "      <td>10302</td>\n",
       "      <td>None</td>\n",
       "      <td>1.007230e+09</td>\n",
       "      <td>11/30/2006</td>\n",
       "      <td>1</td>\n",
       "      <td>16v1</td>\n",
       "      <td>7</td>\n",
       "      <td>417.764545</td>\n",
       "      <td>10907.639931</td>\n",
       "      <td>POLYGON ((984164.5626000017 211846.0703999996,...</td>\n",
       "    </tr>\n",
       "    <tr>\n",
       "      <th>2</th>\n",
       "      <td>MN</td>\n",
       "      <td>1680</td>\n",
       "      <td>48</td>\n",
       "      <td>111</td>\n",
       "      <td>170</td>\n",
       "      <td>5000</td>\n",
       "      <td>04</td>\n",
       "      <td>8</td>\n",
       "      <td>10029</td>\n",
       "      <td>E091</td>\n",
       "      <td>...</td>\n",
       "      <td>10605</td>\n",
       "      <td>None</td>\n",
       "      <td>0.000000e+00</td>\n",
       "      <td>None</td>\n",
       "      <td>1</td>\n",
       "      <td>16v1</td>\n",
       "      <td>0</td>\n",
       "      <td>256.893308</td>\n",
       "      <td>2665.033424</td>\n",
       "      <td>POLYGON ((1000742.195800006 227910.6640000045,...</td>\n",
       "    </tr>\n",
       "    <tr>\n",
       "      <th>3</th>\n",
       "      <td>MN</td>\n",
       "      <td>1385</td>\n",
       "      <td>32</td>\n",
       "      <td>108</td>\n",
       "      <td>130</td>\n",
       "      <td>2003</td>\n",
       "      <td>02</td>\n",
       "      <td>4</td>\n",
       "      <td>10021</td>\n",
       "      <td>E039</td>\n",
       "      <td>...</td>\n",
       "      <td>10508</td>\n",
       "      <td>None</td>\n",
       "      <td>0.000000e+00</td>\n",
       "      <td>None</td>\n",
       "      <td>1</td>\n",
       "      <td>16v1</td>\n",
       "      <td>0</td>\n",
       "      <td>505.033271</td>\n",
       "      <td>15302.920916</td>\n",
       "      <td>POLYGON ((994007.6886000037 219880.428399995, ...</td>\n",
       "    </tr>\n",
       "    <tr>\n",
       "      <th>4</th>\n",
       "      <td>MN</td>\n",
       "      <td>1197</td>\n",
       "      <td>27</td>\n",
       "      <td>107</td>\n",
       "      <td>169</td>\n",
       "      <td>5000</td>\n",
       "      <td>03</td>\n",
       "      <td>6</td>\n",
       "      <td>10024</td>\n",
       "      <td>E074</td>\n",
       "      <td>...</td>\n",
       "      <td>10408</td>\n",
       "      <td>None</td>\n",
       "      <td>0.000000e+00</td>\n",
       "      <td>None</td>\n",
       "      <td>1</td>\n",
       "      <td>16v1</td>\n",
       "      <td>0</td>\n",
       "      <td>295.652483</td>\n",
       "      <td>4374.612455</td>\n",
       "      <td>POLYGON ((992273.6850000024 224863.4904000014,...</td>\n",
       "    </tr>\n",
       "  </tbody>\n",
       "</table>\n",
       "<p>5 rows × 90 columns</p>\n",
       "</div>"
      ],
      "text/plain": [
       "  Borough  Block   Lot   CD CT2010 CB2010 SchoolDist  Council  ZipCode  \\\n",
       "0      MN   1545    52  108    138   4000         02        5    10028   \n",
       "1      MN    723  7501  104     93   6000         02        3    10001   \n",
       "2      MN   1680    48  111    170   5000         04        8    10029   \n",
       "3      MN   1385    32  108    130   2003         02        4    10021   \n",
       "4      MN   1197    27  107    169   5000         03        6    10024   \n",
       "\n",
       "  FireComp                        ...                          TaxMap  \\\n",
       "0     E022                        ...                           10515   \n",
       "1     E003                        ...                           10302   \n",
       "2     E091                        ...                           10605   \n",
       "3     E039                        ...                           10508   \n",
       "4     E074                        ...                           10408   \n",
       "\n",
       "   EDesigNum        APPBBL     APPDate PLUTOMapID Version MAPPLUTO_F  \\\n",
       "0       None  0.000000e+00        None          1    16v1          0   \n",
       "1       None  1.007230e+09  11/30/2006          1    16v1          7   \n",
       "2       None  0.000000e+00        None          1    16v1          0   \n",
       "3       None  0.000000e+00        None          1    16v1          0   \n",
       "4       None  0.000000e+00        None          1    16v1          0   \n",
       "\n",
       "   SHAPE_Leng    SHAPE_Area                                           geometry  \n",
       "0  260.428942   2867.154706  POLYGON ((997277.2344000041 221816.0936000049,...  \n",
       "1  417.764545  10907.639931  POLYGON ((984164.5626000017 211846.0703999996,...  \n",
       "2  256.893308   2665.033424  POLYGON ((1000742.195800006 227910.6640000045,...  \n",
       "3  505.033271  15302.920916  POLYGON ((994007.6886000037 219880.428399995, ...  \n",
       "4  295.652483   4374.612455  POLYGON ((992273.6850000024 224863.4904000014,...  \n",
       "\n",
       "[5 rows x 90 columns]"
      ]
     },
     "execution_count": 308,
     "metadata": {},
     "output_type": "execute_result"
    }
   ],
   "source": [
    "bsize.head()"
   ]
  },
  {
   "cell_type": "code",
   "execution_count": 309,
   "metadata": {
    "ExecuteTime": {
     "end_time": "2018-12-12T16:47:37.607072Z",
     "start_time": "2018-12-12T16:47:37.462204Z"
    },
    "run_control": {
     "frozen": false,
     "read_only": false
    }
   },
   "outputs": [
    {
     "data": {
      "text/html": [
       "<div>\n",
       "<style scoped>\n",
       "    .dataframe tbody tr th:only-of-type {\n",
       "        vertical-align: middle;\n",
       "    }\n",
       "\n",
       "    .dataframe tbody tr th {\n",
       "        vertical-align: top;\n",
       "    }\n",
       "\n",
       "    .dataframe thead th {\n",
       "        text-align: right;\n",
       "    }\n",
       "</style>\n",
       "<table border=\"1\" class=\"dataframe\">\n",
       "  <thead>\n",
       "    <tr style=\"text-align: right;\">\n",
       "      <th></th>\n",
       "      <th>LotFront</th>\n",
       "      <th>LotDepth</th>\n",
       "      <th>BldgFront</th>\n",
       "      <th>BldgDepth</th>\n",
       "      <th>LotType</th>\n",
       "      <th>AssessLand</th>\n",
       "      <th>AssessTot</th>\n",
       "      <th>ExemptLand</th>\n",
       "      <th>ExemptTot</th>\n",
       "      <th>BoroCode</th>\n",
       "      <th>BBL</th>\n",
       "      <th>CondoNo</th>\n",
       "      <th>Tract2010</th>\n",
       "      <th>XCoord</th>\n",
       "      <th>YCoord</th>\n",
       "    </tr>\n",
       "  </thead>\n",
       "  <tbody>\n",
       "    <tr>\n",
       "      <th>0</th>\n",
       "      <td>27.67</td>\n",
       "      <td>100.00</td>\n",
       "      <td>28.00</td>\n",
       "      <td>82.00</td>\n",
       "      <td>5</td>\n",
       "      <td>468000.0</td>\n",
       "      <td>1435950.0</td>\n",
       "      <td>0.0</td>\n",
       "      <td>0.0</td>\n",
       "      <td>1</td>\n",
       "      <td>1.015450e+09</td>\n",
       "      <td>0</td>\n",
       "      <td>0138</td>\n",
       "      <td>997248</td>\n",
       "      <td>221815</td>\n",
       "    </tr>\n",
       "    <tr>\n",
       "      <th>1</th>\n",
       "      <td>98.75</td>\n",
       "      <td>100.00</td>\n",
       "      <td>87.00</td>\n",
       "      <td>100.00</td>\n",
       "      <td>0</td>\n",
       "      <td>539984.0</td>\n",
       "      <td>11879993.0</td>\n",
       "      <td>14160.0</td>\n",
       "      <td>14160.0</td>\n",
       "      <td>1</td>\n",
       "      <td>1.007238e+09</td>\n",
       "      <td>1499</td>\n",
       "      <td>0093</td>\n",
       "      <td>984143</td>\n",
       "      <td>211916</td>\n",
       "    </tr>\n",
       "    <tr>\n",
       "      <th>2</th>\n",
       "      <td>25.00</td>\n",
       "      <td>100.92</td>\n",
       "      <td>25.00</td>\n",
       "      <td>89.00</td>\n",
       "      <td>5</td>\n",
       "      <td>140102.0</td>\n",
       "      <td>343271.0</td>\n",
       "      <td>140102.0</td>\n",
       "      <td>343271.0</td>\n",
       "      <td>1</td>\n",
       "      <td>1.016800e+09</td>\n",
       "      <td>0</td>\n",
       "      <td>0170</td>\n",
       "      <td>1000706</td>\n",
       "      <td>227872</td>\n",
       "    </tr>\n",
       "    <tr>\n",
       "      <th>3</th>\n",
       "      <td>100.42</td>\n",
       "      <td>150.00</td>\n",
       "      <td>98.00</td>\n",
       "      <td>141.00</td>\n",
       "      <td>3</td>\n",
       "      <td>5040000.0</td>\n",
       "      <td>30591900.0</td>\n",
       "      <td>26660.0</td>\n",
       "      <td>26660.0</td>\n",
       "      <td>1</td>\n",
       "      <td>1.013850e+09</td>\n",
       "      <td>0</td>\n",
       "      <td>0130</td>\n",
       "      <td>993916</td>\n",
       "      <td>219872</td>\n",
       "    </tr>\n",
       "    <tr>\n",
       "      <th>4</th>\n",
       "      <td>40.00</td>\n",
       "      <td>102.17</td>\n",
       "      <td>40.00</td>\n",
       "      <td>84.00</td>\n",
       "      <td>5</td>\n",
       "      <td>437850.0</td>\n",
       "      <td>1267200.0</td>\n",
       "      <td>0.0</td>\n",
       "      <td>0.0</td>\n",
       "      <td>1</td>\n",
       "      <td>1.011970e+09</td>\n",
       "      <td>0</td>\n",
       "      <td>0169</td>\n",
       "      <td>992229</td>\n",
       "      <td>224826</td>\n",
       "    </tr>\n",
       "    <tr>\n",
       "      <th>5</th>\n",
       "      <td>19.67</td>\n",
       "      <td>74.50</td>\n",
       "      <td>20.00</td>\n",
       "      <td>49.00</td>\n",
       "      <td>5</td>\n",
       "      <td>13544.0</td>\n",
       "      <td>29631.0</td>\n",
       "      <td>0.0</td>\n",
       "      <td>0.0</td>\n",
       "      <td>1</td>\n",
       "      <td>1.002360e+09</td>\n",
       "      <td>0</td>\n",
       "      <td>0041</td>\n",
       "      <td>984868</td>\n",
       "      <td>201324</td>\n",
       "    </tr>\n",
       "    <tr>\n",
       "      <th>6</th>\n",
       "      <td>20.00</td>\n",
       "      <td>98.75</td>\n",
       "      <td>20.00</td>\n",
       "      <td>91.00</td>\n",
       "      <td>5</td>\n",
       "      <td>270000.0</td>\n",
       "      <td>1359450.0</td>\n",
       "      <td>0.0</td>\n",
       "      <td>0.0</td>\n",
       "      <td>1</td>\n",
       "      <td>1.008370e+09</td>\n",
       "      <td>0</td>\n",
       "      <td>0084</td>\n",
       "      <td>988316</td>\n",
       "      <td>212594</td>\n",
       "    </tr>\n",
       "    <tr>\n",
       "      <th>7</th>\n",
       "      <td>30.00</td>\n",
       "      <td>99.92</td>\n",
       "      <td>30.00</td>\n",
       "      <td>98.00</td>\n",
       "      <td>3</td>\n",
       "      <td>219150.0</td>\n",
       "      <td>3264750.0</td>\n",
       "      <td>0.0</td>\n",
       "      <td>0.0</td>\n",
       "      <td>1</td>\n",
       "      <td>1.001960e+09</td>\n",
       "      <td>0</td>\n",
       "      <td>0031</td>\n",
       "      <td>983646</td>\n",
       "      <td>201076</td>\n",
       "    </tr>\n",
       "    <tr>\n",
       "      <th>8</th>\n",
       "      <td>50.00</td>\n",
       "      <td>150.00</td>\n",
       "      <td>50.00</td>\n",
       "      <td>130.00</td>\n",
       "      <td>5</td>\n",
       "      <td>62100.0</td>\n",
       "      <td>649350.0</td>\n",
       "      <td>0.0</td>\n",
       "      <td>0.0</td>\n",
       "      <td>1</td>\n",
       "      <td>1.022240e+09</td>\n",
       "      <td>0</td>\n",
       "      <td>0291</td>\n",
       "      <td>1004932</td>\n",
       "      <td>254320</td>\n",
       "    </tr>\n",
       "    <tr>\n",
       "      <th>9</th>\n",
       "      <td>20.00</td>\n",
       "      <td>102.17</td>\n",
       "      <td>20.00</td>\n",
       "      <td>90.00</td>\n",
       "      <td>5</td>\n",
       "      <td>123430.0</td>\n",
       "      <td>379388.0</td>\n",
       "      <td>0.0</td>\n",
       "      <td>0.0</td>\n",
       "      <td>1</td>\n",
       "      <td>1.011270e+09</td>\n",
       "      <td>0</td>\n",
       "      <td>0161</td>\n",
       "      <td>990793</td>\n",
       "      <td>222976</td>\n",
       "    </tr>\n",
       "    <tr>\n",
       "      <th>10</th>\n",
       "      <td>65.50</td>\n",
       "      <td>102.17</td>\n",
       "      <td>66.00</td>\n",
       "      <td>82.00</td>\n",
       "      <td>5</td>\n",
       "      <td>477000.0</td>\n",
       "      <td>2634750.0</td>\n",
       "      <td>0.0</td>\n",
       "      <td>0.0</td>\n",
       "      <td>1</td>\n",
       "      <td>1.011650e+09</td>\n",
       "      <td>0</td>\n",
       "      <td>0159</td>\n",
       "      <td>988990</td>\n",
       "      <td>223675</td>\n",
       "    </tr>\n",
       "    <tr>\n",
       "      <th>11</th>\n",
       "      <td>150.00</td>\n",
       "      <td>100.00</td>\n",
       "      <td>150.00</td>\n",
       "      <td>85.00</td>\n",
       "      <td>5</td>\n",
       "      <td>202500.0</td>\n",
       "      <td>1420200.0</td>\n",
       "      <td>0.0</td>\n",
       "      <td>0.0</td>\n",
       "      <td>1</td>\n",
       "      <td>1.021740e+09</td>\n",
       "      <td>0</td>\n",
       "      <td>0285</td>\n",
       "      <td>1004023</td>\n",
       "      <td>252932</td>\n",
       "    </tr>\n",
       "    <tr>\n",
       "      <th>12</th>\n",
       "      <td>18.75</td>\n",
       "      <td>98.75</td>\n",
       "      <td>19.00</td>\n",
       "      <td>48.00</td>\n",
       "      <td>5</td>\n",
       "      <td>115309.0</td>\n",
       "      <td>385578.0</td>\n",
       "      <td>0.0</td>\n",
       "      <td>0.0</td>\n",
       "      <td>1</td>\n",
       "      <td>1.009120e+09</td>\n",
       "      <td>0</td>\n",
       "      <td>0070</td>\n",
       "      <td>990245</td>\n",
       "      <td>210302</td>\n",
       "    </tr>\n",
       "    <tr>\n",
       "      <th>13</th>\n",
       "      <td>46.00</td>\n",
       "      <td>100.00</td>\n",
       "      <td>46.00</td>\n",
       "      <td>94.00</td>\n",
       "      <td>5</td>\n",
       "      <td>1507500.0</td>\n",
       "      <td>3316050.0</td>\n",
       "      <td>0.0</td>\n",
       "      <td>0.0</td>\n",
       "      <td>1</td>\n",
       "      <td>1.007920e+09</td>\n",
       "      <td>0</td>\n",
       "      <td>0081</td>\n",
       "      <td>985366</td>\n",
       "      <td>208555</td>\n",
       "    </tr>\n",
       "    <tr>\n",
       "      <th>14</th>\n",
       "      <td>19.00</td>\n",
       "      <td>102.17</td>\n",
       "      <td>19.00</td>\n",
       "      <td>66.00</td>\n",
       "      <td>5</td>\n",
       "      <td>129915.0</td>\n",
       "      <td>416998.0</td>\n",
       "      <td>0.0</td>\n",
       "      <td>0.0</td>\n",
       "      <td>1</td>\n",
       "      <td>1.012110e+09</td>\n",
       "      <td>0</td>\n",
       "      <td>0165</td>\n",
       "      <td>990991</td>\n",
       "      <td>224725</td>\n",
       "    </tr>\n",
       "    <tr>\n",
       "      <th>15</th>\n",
       "      <td>18.00</td>\n",
       "      <td>102.17</td>\n",
       "      <td>18.00</td>\n",
       "      <td>60.00</td>\n",
       "      <td>5</td>\n",
       "      <td>174561.0</td>\n",
       "      <td>530452.0</td>\n",
       "      <td>0.0</td>\n",
       "      <td>0.0</td>\n",
       "      <td>1</td>\n",
       "      <td>1.011240e+09</td>\n",
       "      <td>0</td>\n",
       "      <td>0157</td>\n",
       "      <td>990414</td>\n",
       "      <td>222113</td>\n",
       "    </tr>\n",
       "    <tr>\n",
       "      <th>16</th>\n",
       "      <td>24.17</td>\n",
       "      <td>98.75</td>\n",
       "      <td>24.00</td>\n",
       "      <td>68.00</td>\n",
       "      <td>5</td>\n",
       "      <td>157500.0</td>\n",
       "      <td>930150.0</td>\n",
       "      <td>0.0</td>\n",
       "      <td>0.0</td>\n",
       "      <td>1</td>\n",
       "      <td>1.009040e+09</td>\n",
       "      <td>0</td>\n",
       "      <td>0064</td>\n",
       "      <td>989455</td>\n",
       "      <td>208385</td>\n",
       "    </tr>\n",
       "    <tr>\n",
       "      <th>17</th>\n",
       "      <td>25.00</td>\n",
       "      <td>200.83</td>\n",
       "      <td>25.00</td>\n",
       "      <td>98.00</td>\n",
       "      <td>4</td>\n",
       "      <td>2254500.0</td>\n",
       "      <td>4370850.0</td>\n",
       "      <td>0.0</td>\n",
       "      <td>0.0</td>\n",
       "      <td>1</td>\n",
       "      <td>1.010090e+09</td>\n",
       "      <td>0</td>\n",
       "      <td>0137</td>\n",
       "      <td>989937</td>\n",
       "      <td>217916</td>\n",
       "    </tr>\n",
       "    <tr>\n",
       "      <th>18</th>\n",
       "      <td>20.25</td>\n",
       "      <td>75.00</td>\n",
       "      <td>20.25</td>\n",
       "      <td>52.00</td>\n",
       "      <td>3</td>\n",
       "      <td>12180.0</td>\n",
       "      <td>33124.0</td>\n",
       "      <td>1550.0</td>\n",
       "      <td>1550.0</td>\n",
       "      <td>1</td>\n",
       "      <td>1.020620e+09</td>\n",
       "      <td>0</td>\n",
       "      <td>0231</td>\n",
       "      <td>999568</td>\n",
       "      <td>240354</td>\n",
       "    </tr>\n",
       "    <tr>\n",
       "      <th>19</th>\n",
       "      <td>50.00</td>\n",
       "      <td>99.92</td>\n",
       "      <td>50.00</td>\n",
       "      <td>82.00</td>\n",
       "      <td>5</td>\n",
       "      <td>49950.0</td>\n",
       "      <td>399600.0</td>\n",
       "      <td>0.0</td>\n",
       "      <td>0.0</td>\n",
       "      <td>1</td>\n",
       "      <td>1.020630e+09</td>\n",
       "      <td>0</td>\n",
       "      <td>0231</td>\n",
       "      <td>999328</td>\n",
       "      <td>240620</td>\n",
       "    </tr>\n",
       "    <tr>\n",
       "      <th>20</th>\n",
       "      <td>25.00</td>\n",
       "      <td>98.75</td>\n",
       "      <td>25.00</td>\n",
       "      <td>88.00</td>\n",
       "      <td>5</td>\n",
       "      <td>192582.0</td>\n",
       "      <td>773043.0</td>\n",
       "      <td>11800.0</td>\n",
       "      <td>11800.0</td>\n",
       "      <td>1</td>\n",
       "      <td>1.008940e+09</td>\n",
       "      <td>0</td>\n",
       "      <td>0080</td>\n",
       "      <td>990174</td>\n",
       "      <td>212331</td>\n",
       "    </tr>\n",
       "    <tr>\n",
       "      <th>21</th>\n",
       "      <td>50.67</td>\n",
       "      <td>93.92</td>\n",
       "      <td>0.00</td>\n",
       "      <td>0.00</td>\n",
       "      <td>0</td>\n",
       "      <td>360000.0</td>\n",
       "      <td>989552.0</td>\n",
       "      <td>7080.0</td>\n",
       "      <td>7080.0</td>\n",
       "      <td>1</td>\n",
       "      <td>1.005728e+09</td>\n",
       "      <td>1256</td>\n",
       "      <td>0063</td>\n",
       "      <td>984902</td>\n",
       "      <td>206453</td>\n",
       "    </tr>\n",
       "    <tr>\n",
       "      <th>22</th>\n",
       "      <td>37.00</td>\n",
       "      <td>80.00</td>\n",
       "      <td>37.00</td>\n",
       "      <td>65.00</td>\n",
       "      <td>5</td>\n",
       "      <td>180000.0</td>\n",
       "      <td>1251450.0</td>\n",
       "      <td>0.0</td>\n",
       "      <td>0.0</td>\n",
       "      <td>1</td>\n",
       "      <td>1.004400e+09</td>\n",
       "      <td>0</td>\n",
       "      <td>0034</td>\n",
       "      <td>988973</td>\n",
       "      <td>205355</td>\n",
       "    </tr>\n",
       "    <tr>\n",
       "      <th>23</th>\n",
       "      <td>17.00</td>\n",
       "      <td>100.00</td>\n",
       "      <td>17.00</td>\n",
       "      <td>50.00</td>\n",
       "      <td>5</td>\n",
       "      <td>4294.0</td>\n",
       "      <td>17733.0</td>\n",
       "      <td>0.0</td>\n",
       "      <td>0.0</td>\n",
       "      <td>1</td>\n",
       "      <td>1.019470e+09</td>\n",
       "      <td>0</td>\n",
       "      <td>0257</td>\n",
       "      <td>996570</td>\n",
       "      <td>233681</td>\n",
       "    </tr>\n",
       "    <tr>\n",
       "      <th>24</th>\n",
       "      <td>112.50</td>\n",
       "      <td>98.75</td>\n",
       "      <td>113.00</td>\n",
       "      <td>77.00</td>\n",
       "      <td>5</td>\n",
       "      <td>1035000.0</td>\n",
       "      <td>9115650.0</td>\n",
       "      <td>80147.0</td>\n",
       "      <td>80147.0</td>\n",
       "      <td>1</td>\n",
       "      <td>1.008830e+09</td>\n",
       "      <td>0</td>\n",
       "      <td>0068</td>\n",
       "      <td>989263</td>\n",
       "      <td>209669</td>\n",
       "    </tr>\n",
       "    <tr>\n",
       "      <th>25</th>\n",
       "      <td>15.00</td>\n",
       "      <td>99.92</td>\n",
       "      <td>15.00</td>\n",
       "      <td>53.00</td>\n",
       "      <td>5</td>\n",
       "      <td>10153.0</td>\n",
       "      <td>36835.0</td>\n",
       "      <td>0.0</td>\n",
       "      <td>0.0</td>\n",
       "      <td>1</td>\n",
       "      <td>1.020810e+09</td>\n",
       "      <td>0</td>\n",
       "      <td>0233</td>\n",
       "      <td>999030</td>\n",
       "      <td>241199</td>\n",
       "    </tr>\n",
       "    <tr>\n",
       "      <th>26</th>\n",
       "      <td>50.00</td>\n",
       "      <td>100.00</td>\n",
       "      <td>50.00</td>\n",
       "      <td>86.00</td>\n",
       "      <td>5</td>\n",
       "      <td>85500.0</td>\n",
       "      <td>622800.0</td>\n",
       "      <td>0.0</td>\n",
       "      <td>0.0</td>\n",
       "      <td>1</td>\n",
       "      <td>1.021610e+09</td>\n",
       "      <td>0</td>\n",
       "      <td>0277</td>\n",
       "      <td>1004123</td>\n",
       "      <td>250924</td>\n",
       "    </tr>\n",
       "    <tr>\n",
       "      <th>27</th>\n",
       "      <td>74.00</td>\n",
       "      <td>145.00</td>\n",
       "      <td>74.00</td>\n",
       "      <td>146.00</td>\n",
       "      <td>3</td>\n",
       "      <td>2304000.0</td>\n",
       "      <td>13411800.0</td>\n",
       "      <td>61360.0</td>\n",
       "      <td>61360.0</td>\n",
       "      <td>1</td>\n",
       "      <td>1.008570e+09</td>\n",
       "      <td>0</td>\n",
       "      <td>0056</td>\n",
       "      <td>988031</td>\n",
       "      <td>210242</td>\n",
       "    </tr>\n",
       "    <tr>\n",
       "      <th>28</th>\n",
       "      <td>21.67</td>\n",
       "      <td>98.75</td>\n",
       "      <td>22.00</td>\n",
       "      <td>57.00</td>\n",
       "      <td>5</td>\n",
       "      <td>41981.0</td>\n",
       "      <td>307171.0</td>\n",
       "      <td>0.0</td>\n",
       "      <td>0.0</td>\n",
       "      <td>1</td>\n",
       "      <td>1.008830e+09</td>\n",
       "      <td>0</td>\n",
       "      <td>0068</td>\n",
       "      <td>988909</td>\n",
       "      <td>209747</td>\n",
       "    </tr>\n",
       "    <tr>\n",
       "      <th>29</th>\n",
       "      <td>15.00</td>\n",
       "      <td>99.92</td>\n",
       "      <td>15.00</td>\n",
       "      <td>50.00</td>\n",
       "      <td>5</td>\n",
       "      <td>8151.0</td>\n",
       "      <td>20514.0</td>\n",
       "      <td>0.0</td>\n",
       "      <td>0.0</td>\n",
       "      <td>1</td>\n",
       "      <td>1.020410e+09</td>\n",
       "      <td>0</td>\n",
       "      <td>022102</td>\n",
       "      <td>999142</td>\n",
       "      <td>237409</td>\n",
       "    </tr>\n",
       "    <tr>\n",
       "      <th>...</th>\n",
       "      <td>...</td>\n",
       "      <td>...</td>\n",
       "      <td>...</td>\n",
       "      <td>...</td>\n",
       "      <td>...</td>\n",
       "      <td>...</td>\n",
       "      <td>...</td>\n",
       "      <td>...</td>\n",
       "      <td>...</td>\n",
       "      <td>...</td>\n",
       "      <td>...</td>\n",
       "      <td>...</td>\n",
       "      <td>...</td>\n",
       "      <td>...</td>\n",
       "      <td>...</td>\n",
       "    </tr>\n",
       "    <tr>\n",
       "      <th>42667</th>\n",
       "      <td>75.00</td>\n",
       "      <td>102.17</td>\n",
       "      <td>74.00</td>\n",
       "      <td>95.00</td>\n",
       "      <td>0</td>\n",
       "      <td>1350011.0</td>\n",
       "      <td>12558153.0</td>\n",
       "      <td>0.0</td>\n",
       "      <td>2292438.0</td>\n",
       "      <td>1</td>\n",
       "      <td>1.014738e+09</td>\n",
       "      <td>1458</td>\n",
       "      <td>0132</td>\n",
       "      <td>997486</td>\n",
       "      <td>220475</td>\n",
       "    </tr>\n",
       "    <tr>\n",
       "      <th>42668</th>\n",
       "      <td>27.08</td>\n",
       "      <td>195.25</td>\n",
       "      <td>27.00</td>\n",
       "      <td>86.00</td>\n",
       "      <td>0</td>\n",
       "      <td>540003.0</td>\n",
       "      <td>2383651.0</td>\n",
       "      <td>16520.0</td>\n",
       "      <td>16520.0</td>\n",
       "      <td>1</td>\n",
       "      <td>1.006208e+09</td>\n",
       "      <td>1459</td>\n",
       "      <td>0073</td>\n",
       "      <td>982807</td>\n",
       "      <td>206740</td>\n",
       "    </tr>\n",
       "    <tr>\n",
       "      <th>42669</th>\n",
       "      <td>1.13</td>\n",
       "      <td>0.00</td>\n",
       "      <td>0.00</td>\n",
       "      <td>0.00</td>\n",
       "      <td>5</td>\n",
       "      <td>6094354.0</td>\n",
       "      <td>84590550.0</td>\n",
       "      <td>984253.0</td>\n",
       "      <td>2256045.0</td>\n",
       "      <td>1</td>\n",
       "      <td>1.007218e+09</td>\n",
       "      <td>443</td>\n",
       "      <td>0093</td>\n",
       "      <td>983263</td>\n",
       "      <td>211754</td>\n",
       "    </tr>\n",
       "    <tr>\n",
       "      <th>42670</th>\n",
       "      <td>40.00</td>\n",
       "      <td>100.42</td>\n",
       "      <td>40.00</td>\n",
       "      <td>70.00</td>\n",
       "      <td>0</td>\n",
       "      <td>337500.0</td>\n",
       "      <td>1191600.0</td>\n",
       "      <td>0.0</td>\n",
       "      <td>0.0</td>\n",
       "      <td>1</td>\n",
       "      <td>1.013428e+09</td>\n",
       "      <td>1357</td>\n",
       "      <td>0098</td>\n",
       "      <td>993349</td>\n",
       "      <td>214002</td>\n",
       "    </tr>\n",
       "    <tr>\n",
       "      <th>42671</th>\n",
       "      <td>50.92</td>\n",
       "      <td>50.00</td>\n",
       "      <td>50.00</td>\n",
       "      <td>46.00</td>\n",
       "      <td>0</td>\n",
       "      <td>135903.0</td>\n",
       "      <td>1059753.0</td>\n",
       "      <td>0.0</td>\n",
       "      <td>0.0</td>\n",
       "      <td>1</td>\n",
       "      <td>1.019448e+09</td>\n",
       "      <td>2372</td>\n",
       "      <td>020102</td>\n",
       "      <td>996310</td>\n",
       "      <td>232899</td>\n",
       "    </tr>\n",
       "    <tr>\n",
       "      <th>42672</th>\n",
       "      <td>55.00</td>\n",
       "      <td>99.92</td>\n",
       "      <td>55.00</td>\n",
       "      <td>0.00</td>\n",
       "      <td>0</td>\n",
       "      <td>247498.0</td>\n",
       "      <td>1019700.0</td>\n",
       "      <td>227800.0</td>\n",
       "      <td>947431.0</td>\n",
       "      <td>1</td>\n",
       "      <td>1.017298e+09</td>\n",
       "      <td>1530</td>\n",
       "      <td>0208</td>\n",
       "      <td>1000868</td>\n",
       "      <td>234627</td>\n",
       "    </tr>\n",
       "    <tr>\n",
       "      <th>42673</th>\n",
       "      <td>114.00</td>\n",
       "      <td>64.17</td>\n",
       "      <td>114.00</td>\n",
       "      <td>64.00</td>\n",
       "      <td>0</td>\n",
       "      <td>139501.0</td>\n",
       "      <td>664651.0</td>\n",
       "      <td>25960.0</td>\n",
       "      <td>551110.0</td>\n",
       "      <td>1</td>\n",
       "      <td>1.018488e+09</td>\n",
       "      <td>1513</td>\n",
       "      <td>020102</td>\n",
       "      <td>996297</td>\n",
       "      <td>232447</td>\n",
       "    </tr>\n",
       "    <tr>\n",
       "      <th>42674</th>\n",
       "      <td>75.00</td>\n",
       "      <td>100.00</td>\n",
       "      <td>75.00</td>\n",
       "      <td>100.00</td>\n",
       "      <td>0</td>\n",
       "      <td>1044000.0</td>\n",
       "      <td>8398353.0</td>\n",
       "      <td>42860.0</td>\n",
       "      <td>42860.0</td>\n",
       "      <td>1</td>\n",
       "      <td>1.005008e+09</td>\n",
       "      <td>1241</td>\n",
       "      <td>0049</td>\n",
       "      <td>984231</td>\n",
       "      <td>203240</td>\n",
       "    </tr>\n",
       "    <tr>\n",
       "      <th>42675</th>\n",
       "      <td>52.93</td>\n",
       "      <td>161.40</td>\n",
       "      <td>26.42</td>\n",
       "      <td>75.00</td>\n",
       "      <td>5</td>\n",
       "      <td>424353.0</td>\n",
       "      <td>1461154.0</td>\n",
       "      <td>2360.0</td>\n",
       "      <td>1039161.0</td>\n",
       "      <td>1</td>\n",
       "      <td>1.020448e+09</td>\n",
       "      <td>1511</td>\n",
       "      <td>0259</td>\n",
       "      <td>999854</td>\n",
       "      <td>238817</td>\n",
       "    </tr>\n",
       "    <tr>\n",
       "      <th>42676</th>\n",
       "      <td>97.00</td>\n",
       "      <td>92.37</td>\n",
       "      <td>0.00</td>\n",
       "      <td>0.00</td>\n",
       "      <td>0</td>\n",
       "      <td>2747250.0</td>\n",
       "      <td>6962850.0</td>\n",
       "      <td>831523.0</td>\n",
       "      <td>1705822.0</td>\n",
       "      <td>1</td>\n",
       "      <td>1.004518e+09</td>\n",
       "      <td>1231</td>\n",
       "      <td>0040</td>\n",
       "      <td>988326</td>\n",
       "      <td>204835</td>\n",
       "    </tr>\n",
       "    <tr>\n",
       "      <th>42677</th>\n",
       "      <td>75.00</td>\n",
       "      <td>199.84</td>\n",
       "      <td>75.00</td>\n",
       "      <td>74.67</td>\n",
       "      <td>5</td>\n",
       "      <td>170110.0</td>\n",
       "      <td>4265564.0</td>\n",
       "      <td>76827.0</td>\n",
       "      <td>3343387.0</td>\n",
       "      <td>1</td>\n",
       "      <td>1.020958e+09</td>\n",
       "      <td>1710</td>\n",
       "      <td>0233</td>\n",
       "      <td>998252</td>\n",
       "      <td>241333</td>\n",
       "    </tr>\n",
       "    <tr>\n",
       "      <th>42678</th>\n",
       "      <td>50.00</td>\n",
       "      <td>92.00</td>\n",
       "      <td>0.00</td>\n",
       "      <td>0.00</td>\n",
       "      <td>0</td>\n",
       "      <td>51239.0</td>\n",
       "      <td>1117018.0</td>\n",
       "      <td>2360.0</td>\n",
       "      <td>2360.0</td>\n",
       "      <td>1</td>\n",
       "      <td>1.007688e+09</td>\n",
       "      <td>1361</td>\n",
       "      <td>0087</td>\n",
       "      <td>984692</td>\n",
       "      <td>209432</td>\n",
       "    </tr>\n",
       "    <tr>\n",
       "      <th>42679</th>\n",
       "      <td>175.00</td>\n",
       "      <td>184.00</td>\n",
       "      <td>92.00</td>\n",
       "      <td>175.00</td>\n",
       "      <td>0</td>\n",
       "      <td>6079515.0</td>\n",
       "      <td>27219621.0</td>\n",
       "      <td>111342.0</td>\n",
       "      <td>340266.0</td>\n",
       "      <td>1</td>\n",
       "      <td>1.008498e+09</td>\n",
       "      <td>1493</td>\n",
       "      <td>0052</td>\n",
       "      <td>987646</td>\n",
       "      <td>208463</td>\n",
       "    </tr>\n",
       "    <tr>\n",
       "      <th>42680</th>\n",
       "      <td>70.17</td>\n",
       "      <td>299.76</td>\n",
       "      <td>70.00</td>\n",
       "      <td>88.00</td>\n",
       "      <td>5</td>\n",
       "      <td>102516.0</td>\n",
       "      <td>816300.0</td>\n",
       "      <td>16520.0</td>\n",
       "      <td>16520.0</td>\n",
       "      <td>1</td>\n",
       "      <td>1.017298e+09</td>\n",
       "      <td>1280</td>\n",
       "      <td>0208</td>\n",
       "      <td>1000713</td>\n",
       "      <td>234713</td>\n",
       "    </tr>\n",
       "    <tr>\n",
       "      <th>42681</th>\n",
       "      <td>0.95</td>\n",
       "      <td>199.83</td>\n",
       "      <td>150.00</td>\n",
       "      <td>200.00</td>\n",
       "      <td>2</td>\n",
       "      <td>1156049.0</td>\n",
       "      <td>34347150.0</td>\n",
       "      <td>1156049.0</td>\n",
       "      <td>34347150.0</td>\n",
       "      <td>1</td>\n",
       "      <td>1.019108e+09</td>\n",
       "      <td>1272</td>\n",
       "      <td>0222</td>\n",
       "      <td>999283</td>\n",
       "      <td>233772</td>\n",
       "    </tr>\n",
       "    <tr>\n",
       "      <th>42682</th>\n",
       "      <td>200.12</td>\n",
       "      <td>134.65</td>\n",
       "      <td>200.00</td>\n",
       "      <td>134.00</td>\n",
       "      <td>3</td>\n",
       "      <td>5256000.0</td>\n",
       "      <td>28876051.0</td>\n",
       "      <td>1314000.0</td>\n",
       "      <td>7219013.0</td>\n",
       "      <td>1</td>\n",
       "      <td>1.005068e+09</td>\n",
       "      <td>1696</td>\n",
       "      <td>0037</td>\n",
       "      <td>982803</td>\n",
       "      <td>204112</td>\n",
       "    </tr>\n",
       "    <tr>\n",
       "      <th>42683</th>\n",
       "      <td>101.10</td>\n",
       "      <td>125.00</td>\n",
       "      <td>275.00</td>\n",
       "      <td>100.00</td>\n",
       "      <td>3</td>\n",
       "      <td>452700.0</td>\n",
       "      <td>4727250.0</td>\n",
       "      <td>223775.0</td>\n",
       "      <td>4498325.0</td>\n",
       "      <td>1</td>\n",
       "      <td>1.016218e+09</td>\n",
       "      <td>1993</td>\n",
       "      <td>0184</td>\n",
       "      <td>999078</td>\n",
       "      <td>230795</td>\n",
       "    </tr>\n",
       "    <tr>\n",
       "      <th>42684</th>\n",
       "      <td>50.00</td>\n",
       "      <td>100.92</td>\n",
       "      <td>0.00</td>\n",
       "      <td>0.00</td>\n",
       "      <td>5</td>\n",
       "      <td>16296.0</td>\n",
       "      <td>117244.0</td>\n",
       "      <td>8148.0</td>\n",
       "      <td>9440.0</td>\n",
       "      <td>1</td>\n",
       "      <td>1.019448e+09</td>\n",
       "      <td>792</td>\n",
       "      <td>020102</td>\n",
       "      <td>996181</td>\n",
       "      <td>233000</td>\n",
       "    </tr>\n",
       "    <tr>\n",
       "      <th>42685</th>\n",
       "      <td>75.00</td>\n",
       "      <td>100.00</td>\n",
       "      <td>75.00</td>\n",
       "      <td>88.00</td>\n",
       "      <td>5</td>\n",
       "      <td>1352251.0</td>\n",
       "      <td>9371701.0</td>\n",
       "      <td>4720.0</td>\n",
       "      <td>4720.0</td>\n",
       "      <td>1</td>\n",
       "      <td>1.005008e+09</td>\n",
       "      <td>1439</td>\n",
       "      <td>0049</td>\n",
       "      <td>984268</td>\n",
       "      <td>203297</td>\n",
       "    </tr>\n",
       "    <tr>\n",
       "      <th>42686</th>\n",
       "      <td>27.00</td>\n",
       "      <td>100.92</td>\n",
       "      <td>27.00</td>\n",
       "      <td>76.00</td>\n",
       "      <td>5</td>\n",
       "      <td>170098.0</td>\n",
       "      <td>622800.0</td>\n",
       "      <td>4720.0</td>\n",
       "      <td>4720.0</td>\n",
       "      <td>1</td>\n",
       "      <td>1.016308e+09</td>\n",
       "      <td>441</td>\n",
       "      <td>0166</td>\n",
       "      <td>998851</td>\n",
       "      <td>226940</td>\n",
       "    </tr>\n",
       "    <tr>\n",
       "      <th>42687</th>\n",
       "      <td>350.00</td>\n",
       "      <td>99.92</td>\n",
       "      <td>350.00</td>\n",
       "      <td>50.00</td>\n",
       "      <td>3</td>\n",
       "      <td>411750.0</td>\n",
       "      <td>6814350.0</td>\n",
       "      <td>107026.0</td>\n",
       "      <td>6498562.0</td>\n",
       "      <td>1</td>\n",
       "      <td>1.020348e+09</td>\n",
       "      <td>1365</td>\n",
       "      <td>0234</td>\n",
       "      <td>1000815</td>\n",
       "      <td>239767</td>\n",
       "    </tr>\n",
       "    <tr>\n",
       "      <th>42688</th>\n",
       "      <td>125.00</td>\n",
       "      <td>110.00</td>\n",
       "      <td>125.00</td>\n",
       "      <td>100.00</td>\n",
       "      <td>5</td>\n",
       "      <td>900000.0</td>\n",
       "      <td>5536347.0</td>\n",
       "      <td>16520.0</td>\n",
       "      <td>3703531.0</td>\n",
       "      <td>1</td>\n",
       "      <td>1.018878e+09</td>\n",
       "      <td>1703</td>\n",
       "      <td>0183</td>\n",
       "      <td>991607</td>\n",
       "      <td>229271</td>\n",
       "    </tr>\n",
       "    <tr>\n",
       "      <th>42689</th>\n",
       "      <td>33.67</td>\n",
       "      <td>99.92</td>\n",
       "      <td>0.00</td>\n",
       "      <td>0.00</td>\n",
       "      <td>0</td>\n",
       "      <td>13656.0</td>\n",
       "      <td>94114.0</td>\n",
       "      <td>9111.0</td>\n",
       "      <td>52028.0</td>\n",
       "      <td>1</td>\n",
       "      <td>1.019408e+09</td>\n",
       "      <td>1170</td>\n",
       "      <td>0228</td>\n",
       "      <td>999299</td>\n",
       "      <td>236384</td>\n",
       "    </tr>\n",
       "    <tr>\n",
       "      <th>42690</th>\n",
       "      <td>49.00</td>\n",
       "      <td>41.67</td>\n",
       "      <td>49.00</td>\n",
       "      <td>42.00</td>\n",
       "      <td>0</td>\n",
       "      <td>120388.0</td>\n",
       "      <td>1024982.0</td>\n",
       "      <td>0.0</td>\n",
       "      <td>0.0</td>\n",
       "      <td>1</td>\n",
       "      <td>1.006218e+09</td>\n",
       "      <td>1610</td>\n",
       "      <td>0073</td>\n",
       "      <td>982969</td>\n",
       "      <td>206976</td>\n",
       "    </tr>\n",
       "    <tr>\n",
       "      <th>42691</th>\n",
       "      <td>0.04</td>\n",
       "      <td>0.00</td>\n",
       "      <td>0.00</td>\n",
       "      <td>0.00</td>\n",
       "      <td>0</td>\n",
       "      <td>6037.0</td>\n",
       "      <td>289727.0</td>\n",
       "      <td>2542.0</td>\n",
       "      <td>232524.0</td>\n",
       "      <td>1</td>\n",
       "      <td>1.019028e+09</td>\n",
       "      <td>1534</td>\n",
       "      <td>0218</td>\n",
       "      <td>998163</td>\n",
       "      <td>231902</td>\n",
       "    </tr>\n",
       "    <tr>\n",
       "      <th>42692</th>\n",
       "      <td>127.76</td>\n",
       "      <td>100.00</td>\n",
       "      <td>100.00</td>\n",
       "      <td>127.00</td>\n",
       "      <td>3</td>\n",
       "      <td>3532515.0</td>\n",
       "      <td>39150009.0</td>\n",
       "      <td>0.0</td>\n",
       "      <td>14131802.0</td>\n",
       "      <td>1</td>\n",
       "      <td>1.014298e+09</td>\n",
       "      <td>1960</td>\n",
       "      <td>0134</td>\n",
       "      <td>996014</td>\n",
       "      <td>219996</td>\n",
       "    </tr>\n",
       "    <tr>\n",
       "      <th>42693</th>\n",
       "      <td>21.17</td>\n",
       "      <td>99.92</td>\n",
       "      <td>119.00</td>\n",
       "      <td>85.00</td>\n",
       "      <td>5</td>\n",
       "      <td>172379.0</td>\n",
       "      <td>1314904.0</td>\n",
       "      <td>0.0</td>\n",
       "      <td>929539.0</td>\n",
       "      <td>1</td>\n",
       "      <td>1.020678e+09</td>\n",
       "      <td>1823</td>\n",
       "      <td>023501</td>\n",
       "      <td>999927</td>\n",
       "      <td>241442</td>\n",
       "    </tr>\n",
       "    <tr>\n",
       "      <th>42694</th>\n",
       "      <td>0.48</td>\n",
       "      <td>0.00</td>\n",
       "      <td>111.00</td>\n",
       "      <td>70.00</td>\n",
       "      <td>0</td>\n",
       "      <td>6693314.0</td>\n",
       "      <td>15993009.0</td>\n",
       "      <td>1265042.0</td>\n",
       "      <td>8998279.0</td>\n",
       "      <td>1</td>\n",
       "      <td>1.010778e+09</td>\n",
       "      <td>2398</td>\n",
       "      <td>0129</td>\n",
       "      <td>985840</td>\n",
       "      <td>217861</td>\n",
       "    </tr>\n",
       "    <tr>\n",
       "      <th>42695</th>\n",
       "      <td>125.00</td>\n",
       "      <td>160.00</td>\n",
       "      <td>125.00</td>\n",
       "      <td>160.00</td>\n",
       "      <td>0</td>\n",
       "      <td>1000348.0</td>\n",
       "      <td>10883566.0</td>\n",
       "      <td>0.0</td>\n",
       "      <td>0.0</td>\n",
       "      <td>1</td>\n",
       "      <td>1.002178e+09</td>\n",
       "      <td>2571</td>\n",
       "      <td>0039</td>\n",
       "      <td>981376</td>\n",
       "      <td>202295</td>\n",
       "    </tr>\n",
       "    <tr>\n",
       "      <th>42696</th>\n",
       "      <td>135.33</td>\n",
       "      <td>146.08</td>\n",
       "      <td>135.00</td>\n",
       "      <td>146.00</td>\n",
       "      <td>0</td>\n",
       "      <td>1534052.0</td>\n",
       "      <td>5998054.0</td>\n",
       "      <td>0.0</td>\n",
       "      <td>0.0</td>\n",
       "      <td>1</td>\n",
       "      <td>1.021348e+09</td>\n",
       "      <td>2632</td>\n",
       "      <td>0241</td>\n",
       "      <td>998609</td>\n",
       "      <td>243424</td>\n",
       "    </tr>\n",
       "  </tbody>\n",
       "</table>\n",
       "<p>42697 rows × 15 columns</p>\n",
       "</div>"
      ],
      "text/plain": [
       "       LotFront  LotDepth  BldgFront  BldgDepth LotType  AssessLand  \\\n",
       "0         27.67    100.00      28.00      82.00       5    468000.0   \n",
       "1         98.75    100.00      87.00     100.00       0    539984.0   \n",
       "2         25.00    100.92      25.00      89.00       5    140102.0   \n",
       "3        100.42    150.00      98.00     141.00       3   5040000.0   \n",
       "4         40.00    102.17      40.00      84.00       5    437850.0   \n",
       "5         19.67     74.50      20.00      49.00       5     13544.0   \n",
       "6         20.00     98.75      20.00      91.00       5    270000.0   \n",
       "7         30.00     99.92      30.00      98.00       3    219150.0   \n",
       "8         50.00    150.00      50.00     130.00       5     62100.0   \n",
       "9         20.00    102.17      20.00      90.00       5    123430.0   \n",
       "10        65.50    102.17      66.00      82.00       5    477000.0   \n",
       "11       150.00    100.00     150.00      85.00       5    202500.0   \n",
       "12        18.75     98.75      19.00      48.00       5    115309.0   \n",
       "13        46.00    100.00      46.00      94.00       5   1507500.0   \n",
       "14        19.00    102.17      19.00      66.00       5    129915.0   \n",
       "15        18.00    102.17      18.00      60.00       5    174561.0   \n",
       "16        24.17     98.75      24.00      68.00       5    157500.0   \n",
       "17        25.00    200.83      25.00      98.00       4   2254500.0   \n",
       "18        20.25     75.00      20.25      52.00       3     12180.0   \n",
       "19        50.00     99.92      50.00      82.00       5     49950.0   \n",
       "20        25.00     98.75      25.00      88.00       5    192582.0   \n",
       "21        50.67     93.92       0.00       0.00       0    360000.0   \n",
       "22        37.00     80.00      37.00      65.00       5    180000.0   \n",
       "23        17.00    100.00      17.00      50.00       5      4294.0   \n",
       "24       112.50     98.75     113.00      77.00       5   1035000.0   \n",
       "25        15.00     99.92      15.00      53.00       5     10153.0   \n",
       "26        50.00    100.00      50.00      86.00       5     85500.0   \n",
       "27        74.00    145.00      74.00     146.00       3   2304000.0   \n",
       "28        21.67     98.75      22.00      57.00       5     41981.0   \n",
       "29        15.00     99.92      15.00      50.00       5      8151.0   \n",
       "...         ...       ...        ...        ...     ...         ...   \n",
       "42667     75.00    102.17      74.00      95.00       0   1350011.0   \n",
       "42668     27.08    195.25      27.00      86.00       0    540003.0   \n",
       "42669      1.13      0.00       0.00       0.00       5   6094354.0   \n",
       "42670     40.00    100.42      40.00      70.00       0    337500.0   \n",
       "42671     50.92     50.00      50.00      46.00       0    135903.0   \n",
       "42672     55.00     99.92      55.00       0.00       0    247498.0   \n",
       "42673    114.00     64.17     114.00      64.00       0    139501.0   \n",
       "42674     75.00    100.00      75.00     100.00       0   1044000.0   \n",
       "42675     52.93    161.40      26.42      75.00       5    424353.0   \n",
       "42676     97.00     92.37       0.00       0.00       0   2747250.0   \n",
       "42677     75.00    199.84      75.00      74.67       5    170110.0   \n",
       "42678     50.00     92.00       0.00       0.00       0     51239.0   \n",
       "42679    175.00    184.00      92.00     175.00       0   6079515.0   \n",
       "42680     70.17    299.76      70.00      88.00       5    102516.0   \n",
       "42681      0.95    199.83     150.00     200.00       2   1156049.0   \n",
       "42682    200.12    134.65     200.00     134.00       3   5256000.0   \n",
       "42683    101.10    125.00     275.00     100.00       3    452700.0   \n",
       "42684     50.00    100.92       0.00       0.00       5     16296.0   \n",
       "42685     75.00    100.00      75.00      88.00       5   1352251.0   \n",
       "42686     27.00    100.92      27.00      76.00       5    170098.0   \n",
       "42687    350.00     99.92     350.00      50.00       3    411750.0   \n",
       "42688    125.00    110.00     125.00     100.00       5    900000.0   \n",
       "42689     33.67     99.92       0.00       0.00       0     13656.0   \n",
       "42690     49.00     41.67      49.00      42.00       0    120388.0   \n",
       "42691      0.04      0.00       0.00       0.00       0      6037.0   \n",
       "42692    127.76    100.00     100.00     127.00       3   3532515.0   \n",
       "42693     21.17     99.92     119.00      85.00       5    172379.0   \n",
       "42694      0.48      0.00     111.00      70.00       0   6693314.0   \n",
       "42695    125.00    160.00     125.00     160.00       0   1000348.0   \n",
       "42696    135.33    146.08     135.00     146.00       0   1534052.0   \n",
       "\n",
       "        AssessTot  ExemptLand   ExemptTot  BoroCode           BBL  CondoNo  \\\n",
       "0       1435950.0         0.0         0.0         1  1.015450e+09        0   \n",
       "1      11879993.0     14160.0     14160.0         1  1.007238e+09     1499   \n",
       "2        343271.0    140102.0    343271.0         1  1.016800e+09        0   \n",
       "3      30591900.0     26660.0     26660.0         1  1.013850e+09        0   \n",
       "4       1267200.0         0.0         0.0         1  1.011970e+09        0   \n",
       "5         29631.0         0.0         0.0         1  1.002360e+09        0   \n",
       "6       1359450.0         0.0         0.0         1  1.008370e+09        0   \n",
       "7       3264750.0         0.0         0.0         1  1.001960e+09        0   \n",
       "8        649350.0         0.0         0.0         1  1.022240e+09        0   \n",
       "9        379388.0         0.0         0.0         1  1.011270e+09        0   \n",
       "10      2634750.0         0.0         0.0         1  1.011650e+09        0   \n",
       "11      1420200.0         0.0         0.0         1  1.021740e+09        0   \n",
       "12       385578.0         0.0         0.0         1  1.009120e+09        0   \n",
       "13      3316050.0         0.0         0.0         1  1.007920e+09        0   \n",
       "14       416998.0         0.0         0.0         1  1.012110e+09        0   \n",
       "15       530452.0         0.0         0.0         1  1.011240e+09        0   \n",
       "16       930150.0         0.0         0.0         1  1.009040e+09        0   \n",
       "17      4370850.0         0.0         0.0         1  1.010090e+09        0   \n",
       "18        33124.0      1550.0      1550.0         1  1.020620e+09        0   \n",
       "19       399600.0         0.0         0.0         1  1.020630e+09        0   \n",
       "20       773043.0     11800.0     11800.0         1  1.008940e+09        0   \n",
       "21       989552.0      7080.0      7080.0         1  1.005728e+09     1256   \n",
       "22      1251450.0         0.0         0.0         1  1.004400e+09        0   \n",
       "23        17733.0         0.0         0.0         1  1.019470e+09        0   \n",
       "24      9115650.0     80147.0     80147.0         1  1.008830e+09        0   \n",
       "25        36835.0         0.0         0.0         1  1.020810e+09        0   \n",
       "26       622800.0         0.0         0.0         1  1.021610e+09        0   \n",
       "27     13411800.0     61360.0     61360.0         1  1.008570e+09        0   \n",
       "28       307171.0         0.0         0.0         1  1.008830e+09        0   \n",
       "29        20514.0         0.0         0.0         1  1.020410e+09        0   \n",
       "...           ...         ...         ...       ...           ...      ...   \n",
       "42667  12558153.0         0.0   2292438.0         1  1.014738e+09     1458   \n",
       "42668   2383651.0     16520.0     16520.0         1  1.006208e+09     1459   \n",
       "42669  84590550.0    984253.0   2256045.0         1  1.007218e+09      443   \n",
       "42670   1191600.0         0.0         0.0         1  1.013428e+09     1357   \n",
       "42671   1059753.0         0.0         0.0         1  1.019448e+09     2372   \n",
       "42672   1019700.0    227800.0    947431.0         1  1.017298e+09     1530   \n",
       "42673    664651.0     25960.0    551110.0         1  1.018488e+09     1513   \n",
       "42674   8398353.0     42860.0     42860.0         1  1.005008e+09     1241   \n",
       "42675   1461154.0      2360.0   1039161.0         1  1.020448e+09     1511   \n",
       "42676   6962850.0    831523.0   1705822.0         1  1.004518e+09     1231   \n",
       "42677   4265564.0     76827.0   3343387.0         1  1.020958e+09     1710   \n",
       "42678   1117018.0      2360.0      2360.0         1  1.007688e+09     1361   \n",
       "42679  27219621.0    111342.0    340266.0         1  1.008498e+09     1493   \n",
       "42680    816300.0     16520.0     16520.0         1  1.017298e+09     1280   \n",
       "42681  34347150.0   1156049.0  34347150.0         1  1.019108e+09     1272   \n",
       "42682  28876051.0   1314000.0   7219013.0         1  1.005068e+09     1696   \n",
       "42683   4727250.0    223775.0   4498325.0         1  1.016218e+09     1993   \n",
       "42684    117244.0      8148.0      9440.0         1  1.019448e+09      792   \n",
       "42685   9371701.0      4720.0      4720.0         1  1.005008e+09     1439   \n",
       "42686    622800.0      4720.0      4720.0         1  1.016308e+09      441   \n",
       "42687   6814350.0    107026.0   6498562.0         1  1.020348e+09     1365   \n",
       "42688   5536347.0     16520.0   3703531.0         1  1.018878e+09     1703   \n",
       "42689     94114.0      9111.0     52028.0         1  1.019408e+09     1170   \n",
       "42690   1024982.0         0.0         0.0         1  1.006218e+09     1610   \n",
       "42691    289727.0      2542.0    232524.0         1  1.019028e+09     1534   \n",
       "42692  39150009.0         0.0  14131802.0         1  1.014298e+09     1960   \n",
       "42693   1314904.0         0.0    929539.0         1  1.020678e+09     1823   \n",
       "42694  15993009.0   1265042.0   8998279.0         1  1.010778e+09     2398   \n",
       "42695  10883566.0         0.0         0.0         1  1.002178e+09     2571   \n",
       "42696   5998054.0         0.0         0.0         1  1.021348e+09     2632   \n",
       "\n",
       "      Tract2010   XCoord  YCoord  \n",
       "0          0138   997248  221815  \n",
       "1          0093   984143  211916  \n",
       "2          0170  1000706  227872  \n",
       "3          0130   993916  219872  \n",
       "4          0169   992229  224826  \n",
       "5          0041   984868  201324  \n",
       "6          0084   988316  212594  \n",
       "7          0031   983646  201076  \n",
       "8          0291  1004932  254320  \n",
       "9          0161   990793  222976  \n",
       "10         0159   988990  223675  \n",
       "11         0285  1004023  252932  \n",
       "12         0070   990245  210302  \n",
       "13         0081   985366  208555  \n",
       "14         0165   990991  224725  \n",
       "15         0157   990414  222113  \n",
       "16         0064   989455  208385  \n",
       "17         0137   989937  217916  \n",
       "18         0231   999568  240354  \n",
       "19         0231   999328  240620  \n",
       "20         0080   990174  212331  \n",
       "21         0063   984902  206453  \n",
       "22         0034   988973  205355  \n",
       "23         0257   996570  233681  \n",
       "24         0068   989263  209669  \n",
       "25         0233   999030  241199  \n",
       "26         0277  1004123  250924  \n",
       "27         0056   988031  210242  \n",
       "28         0068   988909  209747  \n",
       "29       022102   999142  237409  \n",
       "...         ...      ...     ...  \n",
       "42667      0132   997486  220475  \n",
       "42668      0073   982807  206740  \n",
       "42669      0093   983263  211754  \n",
       "42670      0098   993349  214002  \n",
       "42671    020102   996310  232899  \n",
       "42672      0208  1000868  234627  \n",
       "42673    020102   996297  232447  \n",
       "42674      0049   984231  203240  \n",
       "42675      0259   999854  238817  \n",
       "42676      0040   988326  204835  \n",
       "42677      0233   998252  241333  \n",
       "42678      0087   984692  209432  \n",
       "42679      0052   987646  208463  \n",
       "42680      0208  1000713  234713  \n",
       "42681      0222   999283  233772  \n",
       "42682      0037   982803  204112  \n",
       "42683      0184   999078  230795  \n",
       "42684    020102   996181  233000  \n",
       "42685      0049   984268  203297  \n",
       "42686      0166   998851  226940  \n",
       "42687      0234  1000815  239767  \n",
       "42688      0183   991607  229271  \n",
       "42689      0228   999299  236384  \n",
       "42690      0073   982969  206976  \n",
       "42691      0218   998163  231902  \n",
       "42692      0134   996014  219996  \n",
       "42693    023501   999927  241442  \n",
       "42694      0129   985840  217861  \n",
       "42695      0039   981376  202295  \n",
       "42696      0241   998609  243424  \n",
       "\n",
       "[42697 rows x 15 columns]"
      ]
     },
     "execution_count": 309,
     "metadata": {},
     "output_type": "execute_result"
    }
   ],
   "source": [
    "bsize[['LotArea', 'BldgArea', 'ComArea', 'ResArea', 'OfficeArea',\n",
    "       'RetailArea', 'GarageArea', 'StrgeArea', 'FactryArea', 'OtherArea',\n",
    "       'NumBldgs', 'NumFloors', 'UnitsRes', 'UnitsTotal']]\n",
    "bsize[['LotFront', 'LotDepth', 'BldgFront', 'BldgDepth',\n",
    "       'LotType',  'AssessLand', 'AssessTot',\n",
    "       'ExemptLand', 'ExemptTot', 'BoroCode', 'BBL', 'CondoNo', 'Tract2010', 'XCoord',\n",
    "       'YCoord']]"
   ]
  },
  {
   "cell_type": "markdown",
   "metadata": {
    "run_control": {
     "frozen": false,
     "read_only": false
    }
   },
   "source": [
    "## extracting relevant features\n",
    "I am leaving in as many numerical features as I can, removing most categoricals, remoging the Boro core, since I am using only Manhattan, but leaving in some categorical features that I will carelessly treat as numerical in the interest of time: e.g. 'BBL', 'CondoNo', 'Tract2010'"
   ]
  },
  {
   "cell_type": "code",
   "execution_count": 328,
   "metadata": {
    "ExecuteTime": {
     "end_time": "2018-12-12T16:51:28.908335Z",
     "start_time": "2018-12-12T16:51:28.225969Z"
    },
    "run_control": {
     "frozen": false,
     "read_only": false
    }
   },
   "outputs": [],
   "source": [
    "X = bsize[['LotArea', 'BldgArea', 'ComArea', 'ResArea', 'OfficeArea',\n",
    "       'RetailArea', 'GarageArea', 'StrgeArea', 'FactryArea', 'OtherArea',\n",
    "       'NumBldgs', 'NumFloors', 'UnitsRes', 'UnitsTotal',\n",
    "       'LotFront', 'LotDepth', 'BldgFront', 'BldgDepth',\n",
    "       'LotType',  'AssessLand', 'AssessTot',\n",
    "       'ExemptLand', 'ExemptTot', 'BBL', 'CondoNo', 'Tract2010', 'XCoord',\n",
    "       'YCoord',\"YearBuilt\"]]\n"
   ]
  },
  {
   "cell_type": "markdown",
   "metadata": {
    "run_control": {
     "frozen": false,
     "read_only": false
    }
   },
   "source": [
    "BBL when encoded as numerical is a number of order billion. This large number creastes instabilities (and the preprocessing scale function in sklearn complained about it) so I preemptively divide it by 1e9 to make it order unit"
   ]
  },
  {
   "cell_type": "code",
   "execution_count": 329,
   "metadata": {
    "ExecuteTime": {
     "end_time": "2018-12-12T16:52:41.740385Z",
     "start_time": "2018-12-12T16:52:41.184877Z"
    },
    "run_control": {
     "frozen": false,
     "read_only": false
    }
   },
   "outputs": [],
   "source": [
    "X[[\"BBL\"]] = X[[\"BBL\"]] / 1e9"
   ]
  },
  {
   "cell_type": "markdown",
   "metadata": {
    "run_control": {
     "frozen": false,
     "read_only": false
    }
   },
   "source": [
    "The easiest way to deal with NaN is to remove them. I remove all *rows* that contain NaNs (rows is the default pandas behavior)"
   ]
  },
  {
   "cell_type": "code",
   "execution_count": 330,
   "metadata": {
    "ExecuteTime": {
     "end_time": "2018-12-12T16:53:28.402930Z",
     "start_time": "2018-12-12T16:53:27.692245Z"
    },
    "run_control": {
     "frozen": false,
     "read_only": false
    }
   },
   "outputs": [
    {
     "name": "stderr",
     "output_type": "stream",
     "text": [
      "//anaconda/envs/earth-analytics-python/lib/python3.6/site-packages/ipykernel_launcher.py:1: SettingWithCopyWarning: \n",
      "A value is trying to be set on a copy of a slice from a DataFrame\n",
      "\n",
      "See the caveats in the documentation: http://pandas.pydata.org/pandas-docs/stable/indexing.html#indexing-view-versus-copy\n",
      "  \"\"\"Entry point for launching an IPython kernel.\n"
     ]
    }
   ],
   "source": [
    "X.dropna(inplace=True)"
   ]
  },
  {
   "cell_type": "markdown",
   "metadata": {
    "run_control": {
     "frozen": false,
     "read_only": false
    }
   },
   "source": [
    "then I check if I have enough data left"
   ]
  },
  {
   "cell_type": "code",
   "execution_count": 332,
   "metadata": {
    "ExecuteTime": {
     "end_time": "2018-12-12T16:53:52.117533Z",
     "start_time": "2018-12-12T16:53:52.110871Z"
    },
    "run_control": {
     "frozen": false,
     "read_only": false
    }
   },
   "outputs": [
    {
     "data": {
      "text/plain": [
       "(42641, 29)"
      ]
     },
     "execution_count": 332,
     "metadata": {},
     "output_type": "execute_result"
    }
   ],
   "source": [
    "X.shape"
   ]
  },
  {
   "cell_type": "markdown",
   "metadata": {
    "run_control": {
     "frozen": false,
     "read_only": false
    }
   },
   "source": [
    "Define the target variable and convert it to numerical"
   ]
  },
  {
   "cell_type": "code",
   "execution_count": 333,
   "metadata": {
    "ExecuteTime": {
     "end_time": "2018-12-12T16:54:09.614786Z",
     "start_time": "2018-12-12T16:54:09.606810Z"
    },
    "run_control": {
     "frozen": false,
     "read_only": false
    }
   },
   "outputs": [],
   "source": [
    "y = X[\"YearBuilt\"] > 1950"
   ]
  },
  {
   "cell_type": "code",
   "execution_count": 334,
   "metadata": {
    "ExecuteTime": {
     "end_time": "2018-12-12T16:54:10.173901Z",
     "start_time": "2018-12-12T16:54:10.167310Z"
    },
    "run_control": {
     "frozen": false,
     "read_only": false
    }
   },
   "outputs": [
    {
     "data": {
      "text/plain": [
       "array([0, 0, 0, ..., 1, 0, 0])"
      ]
     },
     "execution_count": 334,
     "metadata": {},
     "output_type": "execute_result"
    }
   ],
   "source": [
    "y = y.astype(int).values\n",
    "y"
   ]
  },
  {
   "cell_type": "markdown",
   "metadata": {
    "run_control": {
     "frozen": false,
     "read_only": false
    }
   },
   "source": [
    "and remove it from the feature space (its a column so I have to specify removal along the columns axis: axis=1)"
   ]
  },
  {
   "cell_type": "code",
   "execution_count": null,
   "metadata": {
    "ExecuteTime": {
     "end_time": "2018-12-12T16:54:52.414946Z",
     "start_time": "2018-12-12T16:54:52.380504Z"
    },
    "run_control": {
     "frozen": false,
     "read_only": false
    }
   },
   "outputs": [],
   "source": [
    "X.drop(\"YearBuilt\", axis=1, inplace=True)"
   ]
  },
  {
   "cell_type": "markdown",
   "metadata": {
    "run_control": {
     "frozen": false,
     "read_only": false
    }
   },
   "source": [
    "# modeling\n",
    "I will model the building age with a random forest and a Gradient Boosted Tree"
   ]
  },
  {
   "cell_type": "markdown",
   "metadata": {
    "run_control": {
     "frozen": false,
     "read_only": false
    }
   },
   "source": [
    "## import the machine learning functions fron sklearn"
   ]
  },
  {
   "cell_type": "code",
   "execution_count": 337,
   "metadata": {
    "ExecuteTime": {
     "end_time": "2018-12-12T16:55:18.180320Z",
     "start_time": "2018-12-12T16:55:18.175715Z"
    },
    "run_control": {
     "frozen": false,
     "read_only": false
    }
   },
   "outputs": [],
   "source": [
    "import sklearn\n",
    "from sklearn import preprocessing"
   ]
  },
  {
   "cell_type": "code",
   "execution_count": 338,
   "metadata": {
    "ExecuteTime": {
     "end_time": "2018-12-12T16:55:18.978429Z",
     "start_time": "2018-12-12T16:55:18.974516Z"
    },
    "run_control": {
     "frozen": false,
     "read_only": false
    }
   },
   "outputs": [],
   "source": [
    "from sklearn.ensemble  import RandomForestClassifier as rfc\n",
    "from sklearn.ensemble  import GradientBoostingClassifier as gdb\n",
    "from sklearn.model_selection import train_test_split\n",
    "from sklearn.model_selection import StratifiedKFold\n",
    "from sklearn.model_selection import KFold\n",
    "from sklearn.metrics import confusion_matrix\n",
    "from sklearn.metrics import roc_curve\n",
    "from sklearn.metrics import auc\n"
   ]
  },
  {
   "cell_type": "markdown",
   "metadata": {
    "run_control": {
     "frozen": false,
     "read_only": false
    }
   },
   "source": [
    "## preprocessing"
   ]
  },
  {
   "cell_type": "markdown",
   "metadata": {
    "run_control": {
     "frozen": false,
     "read_only": false
    }
   },
   "source": [
    "standard scaling: treat features as independent of each other and standardize along the columns"
   ]
  },
  {
   "cell_type": "code",
   "execution_count": 340,
   "metadata": {
    "ExecuteTime": {
     "end_time": "2018-12-12T16:55:42.253550Z",
     "start_time": "2018-12-12T16:55:42.199490Z"
    },
    "run_control": {
     "frozen": false,
     "read_only": false
    }
   },
   "outputs": [],
   "source": [
    "X = preprocessing.scale(X)"
   ]
  },
  {
   "cell_type": "code",
   "execution_count": 341,
   "metadata": {
    "ExecuteTime": {
     "end_time": "2018-12-12T16:55:43.576425Z",
     "start_time": "2018-12-12T16:55:43.569285Z"
    },
    "run_control": {
     "frozen": false,
     "read_only": false
    }
   },
   "outputs": [
    {
     "data": {
      "text/plain": [
       "array([ 1.66633694e-18,  5.33227822e-18,  2.13291129e-17, -7.99841733e-18,\n",
       "       -1.59968347e-17,  2.66613911e-18,  7.33188255e-18,  3.33267389e-18,\n",
       "        2.16623803e-18, -1.49970325e-18,  4.66574344e-18, -1.06645564e-17,\n",
       "        7.99841733e-18,  3.99920866e-18, -1.33306955e-17,  0.00000000e+00,\n",
       "        7.99841733e-18, -4.66574344e-18, -2.13291129e-17, -4.66574344e-18,\n",
       "        1.06645564e-17, -1.83297064e-18,  1.99960433e-18,  1.93295085e-17,\n",
       "       -1.06645564e-17,  6.99861516e-18, -3.99920866e-18, -2.66613911e-18])"
      ]
     },
     "execution_count": 341,
     "metadata": {},
     "output_type": "execute_result"
    }
   ],
   "source": [
    "X.mean(axis=0)"
   ]
  },
  {
   "cell_type": "code",
   "execution_count": 342,
   "metadata": {
    "ExecuteTime": {
     "end_time": "2018-12-12T16:55:45.093975Z",
     "start_time": "2018-12-12T16:55:45.078759Z"
    },
    "run_control": {
     "frozen": false,
     "read_only": false
    }
   },
   "outputs": [
    {
     "data": {
      "text/plain": [
       "array([1., 1., 1., 1., 1., 1., 1., 1., 1., 1., 1., 1., 1., 1., 1., 1., 1.,\n",
       "       1., 1., 1., 1., 1., 1., 1., 1., 1., 1., 1.])"
      ]
     },
     "execution_count": 342,
     "metadata": {},
     "output_type": "execute_result"
    }
   ],
   "source": [
    "X.std(axis=0)"
   ]
  },
  {
   "cell_type": "markdown",
   "metadata": {
    "run_control": {
     "frozen": false,
     "read_only": false
    }
   },
   "source": [
    "## modeling with Random Forest"
   ]
  },
  {
   "cell_type": "code",
   "execution_count": 343,
   "metadata": {
    "ExecuteTime": {
     "end_time": "2018-12-12T16:56:02.345887Z",
     "start_time": "2018-12-12T16:56:02.333970Z"
    },
    "run_control": {
     "frozen": false,
     "read_only": false
    }
   },
   "outputs": [],
   "source": [
    "rfc?"
   ]
  },
  {
   "cell_type": "code",
   "execution_count": 346,
   "metadata": {
    "ExecuteTime": {
     "end_time": "2018-12-12T16:57:43.136402Z",
     "start_time": "2018-12-12T16:57:42.225477Z"
    },
    "run_control": {
     "frozen": false,
     "read_only": false
    }
   },
   "outputs": [
    {
     "data": {
      "text/plain": [
       "RandomForestClassifier(bootstrap=True, class_weight=None, criterion='gini',\n",
       "            max_depth=3, max_features='auto', max_leaf_nodes=None,\n",
       "            min_impurity_decrease=0.0, min_impurity_split=None,\n",
       "            min_samples_leaf=1, min_samples_split=2,\n",
       "            min_weight_fraction_leaf=0.0, n_estimators=100, n_jobs=None,\n",
       "            oob_score=False, random_state=None, verbose=0,\n",
       "            warm_start=False)"
      ]
     },
     "execution_count": 346,
     "metadata": {},
     "output_type": "execute_result"
    }
   ],
   "source": [
    "X_train, X_test, y_train, y_test = train_test_split(X, y, test_size=0.33, shuffle=True)\n",
    "\n",
    "X_train, X_train_lr, y_train, y_train_lr = train_test_split(\n",
    "    X_train, y_train, test_size=0.5)\n",
    "\n",
    "\n",
    "# Supervised transformation based on random forests\n",
    "rf = rfc(max_depth=3, n_estimators=100)\n",
    "rf.fit(X_train, y_train)\n",
    "\n"
   ]
  },
  {
   "cell_type": "markdown",
   "metadata": {
    "run_control": {
     "frozen": false,
     "read_only": false
    }
   },
   "source": [
    "## Gradient boosted tree"
   ]
  },
  {
   "cell_type": "code",
   "execution_count": 347,
   "metadata": {
    "ExecuteTime": {
     "end_time": "2018-12-12T16:57:46.130603Z",
     "start_time": "2018-12-12T16:57:43.995478Z"
    },
    "run_control": {
     "frozen": false,
     "read_only": false
    }
   },
   "outputs": [
    {
     "data": {
      "text/plain": [
       "GradientBoostingClassifier(criterion='friedman_mse', init=None,\n",
       "              learning_rate=0.1, loss='deviance', max_depth=3,\n",
       "              max_features=None, max_leaf_nodes=None,\n",
       "              min_impurity_decrease=0.0, min_impurity_split=None,\n",
       "              min_samples_leaf=1, min_samples_split=2,\n",
       "              min_weight_fraction_leaf=0.0, n_estimators=100,\n",
       "              n_iter_no_change=None, presort='auto', random_state=None,\n",
       "              subsample=1.0, tol=0.0001, validation_fraction=0.1,\n",
       "              verbose=0, warm_start=False)"
      ]
     },
     "execution_count": 347,
     "metadata": {},
     "output_type": "execute_result"
    }
   ],
   "source": [
    "# Supervised transformation based on gradient boosted trees\n",
    "gmod = gdb()\n",
    "gmod.fit(X_train, y_train)"
   ]
  },
  {
   "cell_type": "markdown",
   "metadata": {
    "run_control": {
     "frozen": false,
     "read_only": false
    }
   },
   "source": [
    " model predictions on test sample"
   ]
  },
  {
   "cell_type": "code",
   "execution_count": 348,
   "metadata": {
    "ExecuteTime": {
     "end_time": "2018-12-12T16:57:46.299320Z",
     "start_time": "2018-12-12T16:57:46.134114Z"
    },
    "run_control": {
     "frozen": false,
     "read_only": false
    }
   },
   "outputs": [],
   "source": [
    "y_pred = gmod.predict(X_test)\n",
    "fpr_gdb, tpr_gdb, _ = roc_curve(y_test, y_pred, drop_intermediate=False)\n",
    "\n",
    "y_pred_rf = rf.predict(X_test)\n",
    "fpr_rf, tpr_rf, _ = roc_curve(y_test, y_pred_rf, drop_intermediate=False)"
   ]
  },
  {
   "cell_type": "markdown",
   "metadata": {
    "run_control": {
     "frozen": false,
     "read_only": false
    }
   },
   "source": [
    "# model diagnostics\n",
    "## confusion matrix"
   ]
  },
  {
   "cell_type": "code",
   "execution_count": 356,
   "metadata": {
    "ExecuteTime": {
     "end_time": "2018-12-12T17:00:45.487188Z",
     "start_time": "2018-12-12T17:00:45.136317Z"
    },
    "run_control": {
     "frozen": false,
     "read_only": false
    }
   },
   "outputs": [
    {
     "name": "stdout",
     "output_type": "stream",
     "text": [
      "confusion matrix\n",
      " [[12125   237]\n",
      " [  851   859]]\n"
     ]
    },
    {
     "data": {
      "image/png": "[encoded data removed]",
      "text/plain": [
       "<Figure size 432x288 with 1 Axes>"
      ]
     },
     "metadata": {
      "needs_background": "light"
     },
     "output_type": "display_data"
    },
    {
     "data": {
      "image/png": "[encoded data removed]",
      "text/plain": [
       "<Figure size 432x288 with 1 Axes>"
      ]
     },
     "metadata": {
      "needs_background": "light"
     },
     "output_type": "display_data"
    }
   ],
   "source": [
    "ax = pl.figure().add_subplot(111)\n",
    "ax.imshow(confusion_matrix(y_test, y_pred), cmap='bone')\n",
    "ax.set_title(\"GBT confusion matrix\")\n",
    "ax.axis('off')\n",
    "\n",
    "ax = pl.figure().add_subplot(111)\n",
    "ax.imshow(np.log10(confusion_matrix(y_test, y_pred)), cmap='bone')\n",
    "ax.set_title(\"GBT confusion matrix in log space\\n(for enhanced visibility)\")\n",
    "ax.axis('off');\n",
    "\n",
    "print(\"confusion matrix\\n\", confusion_matrix(y_test, y_pred))"
   ]
  },
  {
   "cell_type": "code",
   "execution_count": 358,
   "metadata": {
    "ExecuteTime": {
     "end_time": "2018-12-12T17:01:00.045330Z",
     "start_time": "2018-12-12T17:00:59.447662Z"
    },
    "run_control": {
     "frozen": false,
     "read_only": false
    }
   },
   "outputs": [
    {
     "name": "stdout",
     "output_type": "stream",
     "text": [
      "confusion matrix\n",
      " [[12243   119]\n",
      " [ 1288   422]]\n"
     ]
    },
    {
     "data": {
      "image/png": "[encoded data removed]",
      "text/plain": [
       "<Figure size 432x288 with 1 Axes>"
      ]
     },
     "metadata": {
      "needs_background": "light"
     },
     "output_type": "display_data"
    },
    {
     "data": {
      "image/png": "[encoded data removed]",
      "text/plain": [
       "<Figure size 432x288 with 1 Axes>"
      ]
     },
     "metadata": {
      "needs_background": "light"
     },
     "output_type": "display_data"
    }
   ],
   "source": [
    "ax = pl.figure().add_subplot(111)\n",
    "ax.imshow(confusion_matrix(y_test, y_pred_rf), cmap='bone')\n",
    "ax.set_title(\"RF confusion matrix\")\n",
    "ax.axis('off')\n",
    "\n",
    "ax = pl.figure().add_subplot(111)\n",
    "ax.imshow(np.log10(confusion_matrix(y_test, y_pred_rf)), cmap='bone')\n",
    "ax.set_title(\"RF confusion matrix in log space\\n(for enhanced visibility)\")\n",
    "ax.axis('off');\n",
    "\n",
    "print(\"confusion matrix\\n\", confusion_matrix(y_test, y_pred_rf))"
   ]
  },
  {
   "cell_type": "markdown",
   "metadata": {
    "run_control": {
     "frozen": false,
     "read_only": false
    }
   },
   "source": [
    "## ROC curve\n",
    "the defaul ROC curve has a FP/TP pair for each class pairs: here 2 classes, 1 pair"
   ]
  },
  {
   "cell_type": "code",
   "execution_count": 361,
   "metadata": {
    "ExecuteTime": {
     "end_time": "2018-12-12T17:02:04.852657Z",
     "start_time": "2018-12-12T17:02:04.613173Z"
    },
    "run_control": {
     "frozen": false,
     "read_only": false
    }
   },
   "outputs": [
    {
     "data": {
      "image/png": "[encoded data removed]",
      "text/plain": [
       "<Figure size 432x288 with 1 Axes>"
      ]
     },
     "metadata": {
      "needs_background": "light"
     },
     "output_type": "display_data"
    }
   ],
   "source": [
    "plt.figure(1)\n",
    "plt.plot([0, 1], [0, 1], 'k--')\n",
    "plt.plot(fpr_rf, tpr_rf, '-', color='SteelBlue', label='RF')\n",
    "plt.plot(fpr_rf, tpr_rf, 'x', color='SteelBlue', label='RF')\n",
    "plt.plot(fpr_gdb, tpr_gdb, '-', color='IndianRed',label='GBT')\n",
    "plt.plot(fpr_gdb, tpr_gdb, 'x', color='IndianRed',label='GBT')\n",
    "plt.xlabel('False positive rate')\n",
    "plt.ylabel('True positive rate')\n",
    "plt.title('ROC curve')\n",
    "plt.legend(loc=4)\n",
    "plt.show()\n"
   ]
  },
  {
   "cell_type": "code",
   "execution_count": 363,
   "metadata": {
    "ExecuteTime": {
     "end_time": "2018-12-12T17:02:15.457327Z",
     "start_time": "2018-12-12T17:02:15.444706Z"
    },
    "run_control": {
     "frozen": false,
     "read_only": false
    }
   },
   "outputs": [
    {
     "data": {
      "text/plain": [
       "(array([0.        , 0.01650218, 1.        ]),\n",
       " array([0.        , 0.49356725, 1.        ]),\n",
       " array([2, 1, 0]))"
      ]
     },
     "execution_count": 363,
     "metadata": {},
     "output_type": "execute_result"
    }
   ],
   "source": [
    "roc_curve(y_test, prediction)\n",
    "    "
   ]
  },
  {
   "cell_type": "markdown",
   "metadata": {
    "ExecuteTime": {
     "end_time": "2018-12-12T17:03:24.539878Z",
     "start_time": "2018-12-12T17:03:24.533130Z"
    },
    "run_control": {
     "frozen": false,
     "read_only": false
    }
   },
   "source": [
    "## probabilitic prediction ROC curve\n",
    "the probabilistic prediction give tp/fp pairs along the entise set of percentages (0-1 in steps of 0.1)"
   ]
  },
  {
   "cell_type": "code",
   "execution_count": 366,
   "metadata": {
    "ExecuteTime": {
     "end_time": "2018-12-12T17:03:31.737308Z",
     "start_time": "2018-12-12T17:03:31.731257Z"
    },
    "run_control": {
     "frozen": false,
     "read_only": false
    }
   },
   "outputs": [
    {
     "data": {
      "text/plain": [
       "array([[1. , 0. ],\n",
       "       [1. , 0. ],\n",
       "       [1. , 0. ],\n",
       "       ...,\n",
       "       [1. , 0. ],\n",
       "       [0.8, 0.2],\n",
       "       [1. , 0. ]])"
      ]
     },
     "execution_count": 366,
     "metadata": {},
     "output_type": "execute_result"
    }
   ],
   "source": [
    "prediction"
   ]
  },
  {
   "cell_type": "code",
   "execution_count": 365,
   "metadata": {
    "ExecuteTime": {
     "end_time": "2018-12-12T17:03:30.182626Z",
     "start_time": "2018-12-12T17:03:29.802062Z"
    },
    "run_control": {
     "frozen": false,
     "read_only": false
    }
   },
   "outputs": [
    {
     "name": "stderr",
     "output_type": "stream",
     "text": [
      "//anaconda/envs/earth-analytics-python/lib/python3.6/site-packages/sklearn/ensemble/forest.py:246: FutureWarning: The default value of n_estimators will change from 10 in version 0.20 to 100 in 0.22.\n",
      "  \"10 in version 0.20 to 100 in 0.22.\", FutureWarning)\n"
     ]
    },
    {
     "data": {
      "text/plain": [
       "(array([0.00000000e+00, 7.28037534e-04, 1.94143343e-03, 5.01536968e-03,\n",
       "        9.78806018e-03, 1.69875425e-02, 3.00113250e-02, 5.01536968e-02,\n",
       "        8.55039638e-02, 1.49409481e-01, 2.94693415e-01, 1.00000000e+00]),\n",
       " array([0.        , 0.08654971, 0.18888889, 0.2754386 , 0.38596491,\n",
       "        0.48187135, 0.58479532, 0.67426901, 0.75847953, 0.83391813,\n",
       "        0.91169591, 1.        ]),\n",
       " array([2. , 1. , 0.9, 0.8, 0.7, 0.6, 0.5, 0.4, 0.3, 0.2, 0.1, 0. ]))"
      ]
     },
     "execution_count": 365,
     "metadata": {},
     "output_type": "execute_result"
    }
   ],
   "source": [
    "prediction = rfc().fit(X_train,y_train).predict_proba(X_test)\n",
    "roc_curve(y_test, prediction[:,1])\n"
   ]
  },
  {
   "cell_type": "markdown",
   "metadata": {
    "run_control": {
     "frozen": false,
     "read_only": false
    }
   },
   "source": [
    "## splitting the sample in 15 sets of test-train pairs I can create multiple ROC and calculate their variance"
   ]
  },
  {
   "cell_type": "code",
   "execution_count": 367,
   "metadata": {
    "ExecuteTime": {
     "end_time": "2018-12-12T17:05:41.116451Z",
     "start_time": "2018-12-12T17:04:58.413861Z"
    },
    "run_control": {
     "frozen": false,
     "read_only": false
    }
   },
   "outputs": [
    {
     "name": "stderr",
     "output_type": "stream",
     "text": [
      "//anaconda/envs/earth-analytics-python/lib/python3.6/site-packages/sklearn/ensemble/forest.py:246: FutureWarning: The default value of n_estimators will change from 10 in version 0.20 to 100 in 0.22.\n",
      "  \"10 in version 0.20 to 100 in 0.22.\", FutureWarning)\n",
      "//anaconda/envs/earth-analytics-python/lib/python3.6/site-packages/sklearn/ensemble/forest.py:246: FutureWarning: The default value of n_estimators will change from 10 in version 0.20 to 100 in 0.22.\n",
      "  \"10 in version 0.20 to 100 in 0.22.\", FutureWarning)\n",
      "//anaconda/envs/earth-analytics-python/lib/python3.6/site-packages/sklearn/ensemble/forest.py:246: FutureWarning: The default value of n_estimators will change from 10 in version 0.20 to 100 in 0.22.\n",
      "  \"10 in version 0.20 to 100 in 0.22.\", FutureWarning)\n",
      "//anaconda/envs/earth-analytics-python/lib/python3.6/site-packages/sklearn/ensemble/forest.py:246: FutureWarning: The default value of n_estimators will change from 10 in version 0.20 to 100 in 0.22.\n",
      "  \"10 in version 0.20 to 100 in 0.22.\", FutureWarning)\n",
      "//anaconda/envs/earth-analytics-python/lib/python3.6/site-packages/sklearn/ensemble/forest.py:246: FutureWarning: The default value of n_estimators will change from 10 in version 0.20 to 100 in 0.22.\n",
      "  \"10 in version 0.20 to 100 in 0.22.\", FutureWarning)\n"
     ]
    },
    {
     "data": {
      "image/png": "[encoded data removed]",
      "text/plain": [
       "<Figure size 720x720 with 1 Axes>"
      ]
     },
     "metadata": {
      "needs_background": "light"
     },
     "output_type": "display_data"
    }
   ],
   "source": [
    "kf = KFold(n_splits=5)\n",
    "cv = kf.split(X,y)\n",
    "tprs_GDB = []\n",
    "aucs_GDB = []\n",
    "tprs_RF = []\n",
    "aucs_RF = []\n",
    "mean_fpr = np.linspace(0,1,100)\n",
    "i = 1\n",
    "pl.figure(figsize=(10,10))\n",
    "for train, test in cv:\n",
    "    prediction = rfc().fit(X[train],y[train]).predict_proba(X[test])\n",
    "    fpr_RF, tpr_RF, t = roc_curve(y[test], prediction[:, 1])\n",
    "    tprs.append(interp(mean_fpr, fpr_RF, tpr_RF))\n",
    "    roc_auc_RF = auc(fpr_RF, tpr_RF)\n",
    "    aucs_RF.append(roc_auc)\n",
    "    plt.plot(fpr_RF, tpr_RF, '-', lw=2, alpha=0.3, label='ROC fold %d (AUC = %0.2f)' % (i, roc_auc_RF))\n",
    "    prediction = gdb().fit(X[train],y[train]).predict_proba(X[test])\n",
    "    fpr_GDB, tpr_GDB, t = roc_curve(y[test], prediction[:, 1])\n",
    "    tprs.append(interp(mean_fpr, fpr, tpr))\n",
    "    roc_auc_GDB = auc(fpr_GDB, tpr_GDB)\n",
    "    aucs_GDB.append(roc_auc)\n",
    "    plt.plot(fpr_GDB, tpr_GDB, '--', lw=2, alpha=0.3, label='ROC fold %d (AUC = %0.2f)' % (i, roc_auc_GDB))\n",
    "    i= i+1\n",
    "    \n",
    "pl.plot([0,1],[0,1],linestyle = '--',lw = 2,color = 'black')\n",
    "mean_tpr = np.nanmean(tprs, axis=0)\n",
    "mean_auc = auc(mean_fpr, mean_tpr)\n",
    "pl.plot(mean_fpr, mean_tpr, color='blue',\n",
    "         label=r'Mean ROC (AUC = %0.2f )' % (mean_auc),lw=2, alpha=1)\n",
    "\n",
    "pl.xlabel('False Positive Rate')\n",
    "pl.ylabel('True Positive Rate')\n",
    "pl.title('ROC')\n",
    "pl.legend(loc=\"lower right\", ncol=2)\n",
    "pl.show()\n"
   ]
  },
  {
   "cell_type": "code",
   "execution_count": null,
   "metadata": {
    "run_control": {
     "frozen": false,
     "read_only": false
    }
   },
   "outputs": [],
   "source": [
    " https://www.analyticsvidhya.com/blog/2016/02/7-important-model-evaluation-error-metrics/"
   ]
  },
  {
   "cell_type": "code",
   "execution_count": null,
   "metadata": {
    "run_control": {
     "frozen": false,
     "read_only": false
    }
   },
   "outputs": [],
   "source": []
  }
 ],
 "metadata": {
  "kernelspec": {
   "display_name": "Python 3",
   "language": "python",
   "name": "python3"
  },
  "toc": {
   "colors": {
    "hover_highlight": "#DAA520",
    "running_highlight": "#FF0000",
    "selected_highlight": "#FFD700"
   },
   "moveMenuLeft": true,
   "nav_menu": {
    "height": "12px",
    "width": "252px"
   },
   "navigate_menu": true,
   "number_sections": true,
   "sideBar": true,
   "threshold": 4,
   "toc_cell": false,
   "toc_section_display": "block",
   "toc_window_display": false
  }
 },
 "nbformat": 4,
 "nbformat_minor": 2
}
